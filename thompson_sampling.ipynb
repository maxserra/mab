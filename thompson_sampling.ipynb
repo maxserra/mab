{
 "cells": [
  {
   "cell_type": "code",
   "execution_count": 171,
   "id": "e948d4ab",
   "metadata": {},
   "outputs": [],
   "source": [
    "import numpy as np\n",
    "import matplotlib as plt\n",
    "from tqdm import tqdm\n",
    "\n",
    "%matplotlib inline"
   ]
  },
  {
   "cell_type": "code",
   "execution_count": null,
   "id": "1186e198",
   "metadata": {},
   "outputs": [],
   "source": []
  },
  {
   "cell_type": "code",
   "execution_count": null,
   "id": "295e340b",
   "metadata": {},
   "outputs": [],
   "source": []
  },
  {
   "cell_type": "code",
   "execution_count": 165,
   "id": "c576edef",
   "metadata": {},
   "outputs": [],
   "source": [
    "class MultiArmedBanditEnvironment:\n",
    "    \n",
    "    def __init__(self, arm_probs):\n",
    "        self.arm_probs = arm_probs\n",
    "        \n",
    "    def take_action(self, arm_i):\n",
    "        return np.random.binomial(n=1, p=self.arm_probs[arm_i])"
   ]
  },
  {
   "cell_type": "code",
   "execution_count": 173,
   "id": "611df4b2",
   "metadata": {},
   "outputs": [],
   "source": [
    "class ThompsonAgent:\n",
    "    \n",
    "    def __init__(self, n_arms):\n",
    "        self.beta_alpha = [1 for _ in range(n_arms)] # beta dist alpha parameter\n",
    "        self.beta_beta  = [1 for _ in range(n_arms)] # beta dist beta parameter\n",
    "    \n",
    "    @property\n",
    "    def reward(self):\n",
    "        # the reward is the sum of the alphas minus the inital 1s\n",
    "        return np.sum(self.beta_alpha) - len(self.beta_alpha)\n",
    "    \n",
    "    def update(self, arm_i, reward):\n",
    "        if reward == 1:\n",
    "            self.beta_alpha[arm_i] += 1\n",
    "        elif reward == 0:\n",
    "            self.beta_beta[arm_i] += 1\n",
    "        else:\n",
    "            raise ValueError(f\"Unexpected reward value {reward}\")\n",
    "        \n",
    "    def choose_action(self):\n",
    "        beta_samples = np.random.beta(a=self.beta_alpha, b=self.beta_beta)\n",
    "        return np.argmax(beta_samples)"
   ]
  },
  {
   "cell_type": "code",
   "execution_count": null,
   "id": "4e4a9438",
   "metadata": {},
   "outputs": [],
   "source": []
  },
  {
   "cell_type": "code",
   "execution_count": null,
   "id": "9f27cfa8",
   "metadata": {},
   "outputs": [],
   "source": []
  },
  {
   "cell_type": "markdown",
   "id": "1bb2c45f",
   "metadata": {},
   "source": [
    "## Setup:\n",
    "\n",
    "Arms with the following probabilities:"
   ]
  },
  {
   "cell_type": "code",
   "execution_count": 174,
   "id": "c04527d3",
   "metadata": {},
   "outputs": [],
   "source": [
    "arm_probs = [0.3, 0.5, 0.4, 0.45, 0.3, 0.35]"
   ]
  },
  {
   "cell_type": "markdown",
   "id": "684c9ab0",
   "metadata": {},
   "source": [
    "We will run `n_rounds` rounds for `n_games` games."
   ]
  },
  {
   "cell_type": "code",
   "execution_count": 203,
   "id": "e122ff74",
   "metadata": {},
   "outputs": [],
   "source": [
    "n_rounds = 1000\n",
    "n_games = 30"
   ]
  },
  {
   "cell_type": "code",
   "execution_count": null,
   "id": "216c3e67",
   "metadata": {},
   "outputs": [],
   "source": []
  },
  {
   "cell_type": "code",
   "execution_count": 204,
   "id": "11fd1efe",
   "metadata": {},
   "outputs": [
    {
     "name": "stderr",
     "output_type": "stream",
     "text": [
      "100%|██████████████████████████████████████████████████████████████████████████████████████████████| 30/30 [00:00<00:00, 40.78it/s]\n"
     ]
    }
   ],
   "source": [
    "env = MultiArmedBanditEnvironment(arm_probs=arm_probs)\n",
    "\n",
    "rewards_list = []\n",
    "\n",
    "for _ in tqdm(range(n_games)):\n",
    "\n",
    "    agent = ThompsonAgent(n_arms=len(arm_probs))\n",
    "\n",
    "    for _ in range(n_rounds):\n",
    "        \n",
    "        choosen_arm = agent.choose_action()\n",
    "        reward = env.take_action(arm_i=choosen_arm)\n",
    "        agent.update(arm_i=choosen_arm, reward=reward)\n",
    "        \n",
    "    rewards_list.append(agent.reward)"
   ]
  },
  {
   "cell_type": "code",
   "execution_count": 205,
   "id": "30671317",
   "metadata": {},
   "outputs": [
    {
     "data": {
      "text/plain": [
       "462.1666666666667"
      ]
     },
     "execution_count": 205,
     "metadata": {},
     "output_type": "execute_result"
    }
   ],
   "source": [
    "np.mean(rewards_list)"
   ]
  },
  {
   "cell_type": "code",
   "execution_count": null,
   "id": "dc36f398",
   "metadata": {},
   "outputs": [],
   "source": []
  },
  {
   "cell_type": "code",
   "execution_count": null,
   "id": "80d93f85",
   "metadata": {},
   "outputs": [],
   "source": []
  }
 ],
 "metadata": {
  "kernelspec": {
   "display_name": "Python 3 (ipykernel)",
   "language": "python",
   "name": "python3"
  },
  "language_info": {
   "codemirror_mode": {
    "name": "ipython",
    "version": 3
   },
   "file_extension": ".py",
   "mimetype": "text/x-python",
   "name": "python",
   "nbconvert_exporter": "python",
   "pygments_lexer": "ipython3",
   "version": "3.8.13"
  }
 },
 "nbformat": 4,
 "nbformat_minor": 5
}
